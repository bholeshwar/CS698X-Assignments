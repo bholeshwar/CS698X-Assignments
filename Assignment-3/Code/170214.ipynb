{
  "nbformat": 4,
  "nbformat_minor": 0,
  "metadata": {
    "colab": {
      "name": "TPMI hw3.ipynb",
      "provenance": []
    },
    "kernelspec": {
      "name": "python3",
      "display_name": "Python 3"
    },
    "language_info": {
      "name": "python"
    }
  },
  "cells": [
    {
      "cell_type": "code",
      "metadata": {
        "id": "9GzE2AHAF7ax"
      },
      "source": [
        "import numpy as np\n",
        "import matplotlib.pyplot as plt\n",
        "plt.style.use('seaborn')\n",
        "plt.rcParams['figure.figsize'] = (8,6)"
      ],
      "execution_count": 1,
      "outputs": []
    },
    {
      "cell_type": "code",
      "metadata": {
        "id": "F4ypVGR_GBwC"
      },
      "source": [
        "N = 10000\n",
        "sigma = 2\n",
        "M = np.sqrt( 2 * np.pi * sigma * sigma ) * np.exp( 1 + np.pi*np.pi/(2*sigma*sigma))"
      ],
      "execution_count": 2,
      "outputs": []
    },
    {
      "cell_type": "code",
      "metadata": {
        "id": "ZNM3547OH446"
      },
      "source": [
        "def p_x(x):\n",
        "  return np.exp(np.sin(x))\n",
        "\n",
        "def q_x(x, mean, sigma):\n",
        "  return 1/(sigma*np.sqrt(2*np.pi)) * np.exp( -1/2 * ((x - mean)/sigma)**2 )"
      ],
      "execution_count": 3,
      "outputs": []
    },
    {
      "cell_type": "code",
      "metadata": {
        "id": "LZfzGmcUGqZh"
      },
      "source": [
        "# Rejection sampling algorithm\n",
        "x = np.empty(N)\n",
        "\n",
        "for i in range(N):\n",
        "  while 1:\n",
        "    x[i] = np.random.normal(0, sigma)\n",
        "\n",
        "    if x[i] < -1*np.pi or x[i] > np.pi:\n",
        "      continue\n",
        "    \n",
        "    u = np.random.uniform(0, M*q_x(x[i], 0, sigma))\n",
        "\n",
        "    if u > p_x(x[i]):\n",
        "      continue\n",
        "    else:\n",
        "      break"
      ],
      "execution_count": 4,
      "outputs": []
    },
    {
      "cell_type": "code",
      "metadata": {
        "colab": {
          "base_uri": "https://localhost:8080/",
          "height": 297
        },
        "id": "ZJGrGOqpKBd5",
        "outputId": "fe9952a9-53b8-482a-c451-17b78753c45f"
      },
      "source": [
        "# f = plt.figure()\n",
        "plt.hist(x, bins=50)\n",
        "plt.title(\"$p(x)$ for $\\sigma =$ \" + str(sigma))\n",
        "plt.xlabel(\"$x$\")\n",
        "plt.ylabel(\"Count\")\n",
        "plt.show()\n",
        "\n",
        "# f.savefig(\"rejection_sampling.pdf\", bbox_inches='tight')"
      ],
      "execution_count": 5,
      "outputs": [
        {
          "output_type": "display_data",
          "data": {
            "image/png": "[encoded data removed]",
            "text/plain": [
              "<Figure size 432x288 with 1 Axes>"
            ]
          },
          "metadata": {
            "tags": [],
            "needs_background": "light"
          }
        }
      ]
    },
    {
      "cell_type": "code",
      "metadata": {
        "id": "x5xdHmkm6A2o"
      },
      "source": [
        ""
      ],
      "execution_count": null,
      "outputs": []
    }
  ]
}